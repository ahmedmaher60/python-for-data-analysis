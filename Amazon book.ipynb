{
 "cells": [
  {
   "cell_type": "code",
   "execution_count": 5,
   "id": "0d649b83",
   "metadata": {},
   "outputs": [],
   "source": [
    "from bs4 import BeautifulSoup\n",
    "import requests\n",
    "import csv"
   ]
  },
  {
   "cell_type": "code",
   "execution_count": 6,
   "id": "7e3e90c6",
   "metadata": {},
   "outputs": [],
   "source": [
    "\n",
    "# get html\n",
    "url = \"https://www.amazon.com/Best-Sellers-Books/zgbs/books\"\n",
    "\n",
    "# change the user-agent value based on your web browser\n",
    "headers = {'user-agent': 'Mozilla/5.0 (Windows NT 10.0; Win64; x64) AppleWebKit/537.36 (KHTML, like Gecko) Chrome/98.0.4758.82 Safari/537.36'}\n",
    "\n",
    "page = requests.get(url, headers=headers)\n",
    "\n",
    "soup = BeautifulSoup(page.content, 'html.parser')\n",
    "\n",
    "# get all books\n",
    "books = soup.find_all(id=\"gridItemRoot\")\n",
    "\n",
    "csv_headers = ['Rank', 'Title', 'Author', 'Price']\n",
    "with open('amazon_books.csv', 'w', encoding='utf-8', newline='') as f:\n",
    "    writer = csv.writer(f)\n",
    "    writer.writerow(csv_headers)\n"
   ]
  },
  {
   "cell_type": "code",
   "execution_count": 7,
   "id": "b665edba",
   "metadata": {},
   "outputs": [],
   "source": [
    "\n",
    "for book in books:\n",
    "\n",
    "    rank = book.find('span', class_='zg-bdg-text').text[1:]\n",
    "\n",
    "    children = book.find('div', class_='zg-grid-general-faceout').div\n",
    "\n",
    "    title = children.contents[1].text\n",
    "    author = children.contents[2].text\n",
    "    price = children.contents[-1].text\n",
    "   \n",
    "    with open('amazon_books.csv', 'a', encoding='utf-8', newline='') as f:\n",
    "        writer = csv.writer(f)\n",
    "        writer.writerow([rank, title, author, price])"
   ]
  },
  {
   "cell_type": "code",
   "execution_count": null,
   "id": "34bb39c5",
   "metadata": {},
   "outputs": [],
   "source": []
  }
 ],
 "metadata": {
  "kernelspec": {
   "display_name": "Python 3 (ipykernel)",
   "language": "python",
   "name": "python3"
  },
  "language_info": {
   "codemirror_mode": {
    "name": "ipython",
    "version": 3
   },
   "file_extension": ".py",
   "mimetype": "text/x-python",
   "name": "python",
   "nbconvert_exporter": "python",
   "pygments_lexer": "ipython3",
   "version": "3.9.12"
  }
 },
 "nbformat": 4,
 "nbformat_minor": 5
}
