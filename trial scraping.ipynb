{
 "cells": [
  {
   "cell_type": "code",
   "execution_count": 5,
   "id": "e7546a3f",
   "metadata": {},
   "outputs": [],
   "source": [
    "import requests\n",
    "from bs4 import BeautifulSoup\n",
    "import csv\n",
    "from itertools import zip_longest"
   ]
  },
  {
   "cell_type": "code",
   "execution_count": 6,
   "id": "b764f717",
   "metadata": {},
   "outputs": [
    {
     "name": "stdout",
     "output_type": "stream",
     "text": [
      "Requirement already satisfied: lxml in c:\\users\\ahmed\\anaconda3\\lib\\site-packages (4.8.0)\n",
      "Note: you may need to restart the kernel to use updated packages.\n"
     ]
    }
   ],
   "source": [
    "pip install lxml"
   ]
  },
  {
   "cell_type": "code",
   "execution_count": 7,
   "id": "fb7c52c3",
   "metadata": {},
   "outputs": [],
   "source": [
    "ID = []"
   ]
  },
  {
   "cell_type": "code",
   "execution_count": 4,
   "id": "ccf9e8bf",
   "metadata": {},
   "outputs": [],
   "source": [
    "result = requests.get('https://clinic.nebras-dentalore.com/microscopia/Statistics/Home/Patient/NewPatients')"
   ]
  },
  {
   "cell_type": "code",
   "execution_count": 11,
   "id": "9668421a",
   "metadata": {},
   "outputs": [],
   "source": [
    "src = result.content"
   ]
  },
  {
   "cell_type": "code",
   "execution_count": 12,
   "id": "209ad1c9",
   "metadata": {},
   "outputs": [],
   "source": [
    "soup = BeautifulSoup(src,'lxml')"
   ]
  },
  {
   "cell_type": "code",
   "execution_count": 21,
   "id": "9555806e",
   "metadata": {},
   "outputs": [],
   "source": [
    "IDs = soup.find_all(\"div\",{'class':\"textBox16 s11-160309-585b160309-4a17\"})\n"
   ]
  },
  {
   "cell_type": "code",
   "execution_count": 22,
   "id": "3536af02",
   "metadata": {},
   "outputs": [],
   "source": [
    "for i in range(len(IDs)) :\n",
    "    ID.append(IDs[i].text)"
   ]
  },
  {
   "cell_type": "code",
   "execution_count": 23,
   "id": "69eebfca",
   "metadata": {},
   "outputs": [],
   "source": [
    "file_list=[ID]\n",
    "exported = zip_longest(*file_list)\n",
    "with open ('C:/Users/AHMED/Documents/web scraping/www.csv','w') as myfile :\n",
    "    wr = csv.writer(myfile)\n",
    "    wr.writerow(['ID'])\n",
    "    wr.writerows(exported)\n"
   ]
  },
  {
   "cell_type": "code",
   "execution_count": null,
   "id": "73fe9ed2",
   "metadata": {},
   "outputs": [],
   "source": []
  }
 ],
 "metadata": {
  "kernelspec": {
   "display_name": "Python 3 (ipykernel)",
   "language": "python",
   "name": "python3"
  },
  "language_info": {
   "codemirror_mode": {
    "name": "ipython",
    "version": 3
   },
   "file_extension": ".py",
   "mimetype": "text/x-python",
   "name": "python",
   "nbconvert_exporter": "python",
   "pygments_lexer": "ipython3",
   "version": "3.9.12"
  }
 },
 "nbformat": 4,
 "nbformat_minor": 5
}
