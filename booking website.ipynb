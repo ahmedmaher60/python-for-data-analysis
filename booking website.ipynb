{
 "cells": [
  {
   "cell_type": "markdown",
   "id": "7e43a92b",
   "metadata": {},
   "source": [
    "# import libraries"
   ]
  },
  {
   "cell_type": "code",
   "execution_count": 255,
   "id": "a320dbd1",
   "metadata": {},
   "outputs": [],
   "source": [
    "from bs4 import BeautifulSoup as bs\n",
    "import requests\n",
    "import csv"
   ]
  },
  {
   "cell_type": "markdown",
   "id": "bc359c90",
   "metadata": {},
   "source": [
    "# Import url"
   ]
  },
  {
   "cell_type": "code",
   "execution_count": 256,
   "id": "08cdc0e9",
   "metadata": {},
   "outputs": [],
   "source": [
    "url = 'https://www.booking.com/searchresults.en-gb.html?aid=309654&label=booking-com-flights-english-en-emea-2B5Xq73ljteVVKq2awBiPQS228626892855%3Apl%3Ata%3Ap1%3Ap2%3Aac%3Aap%3Aneg%3Afi%3Atikwd-12668691%3Alp1005386%3Ali%3Adec%3Adm%3Appccp%3DUmFuZG9tSVYkc2RlIyh9YcsZ-Id2vkzIfTmYhvC5HOg&lang=en-gb&sid=5e8092358df43afc044b06db6fada831&sb=1&sb_lp=1&src=index&src_elem=sb&error_url=https%3A%2F%2Fwww.booking.com%2Findex.en-gb.html%3Faid%3D309654%26label%3Dbooking-com-flights-english-en-emea-2B5Xq73ljteVVKq2awBiPQS228626892855%253Apl%253Ata%253Ap1%253Ap2%253Aac%253Aap%253Aneg%253Afi%253Atikwd-12668691%253Alp1005386%253Ali%253Adec%253Adm%253Appccp%253DUmFuZG9tSVYkc2RlIyh9YcsZ-Id2vkzIfTmYhvC5HOg%26sid%3D5e8092358df43afc044b06db6fada831%26sb_price_type%3Dtotal%26%26&ss=Dubai%2C+Dubai+Emirate%2C+United+Arab+Emirates&is_ski_area=&checkin_year=2022&checkin_month=12&checkin_monthday=26&checkout_year=2023&checkout_month=1&checkout_monthday=1&efdco=1&group_adults=2&group_children=0&no_rooms=1&b_h4u_keep_filters=&from_sf=1&ss_raw=duabi&ac_position=0&ac_langcode=en&ac_click_type=b&ac_meta=GhA5OGE3NTk3NjZkNzgwMWQ0IAAoATICZW46BWR1YWJpQABKAFAA&dest_id=-782831&dest_type=city&iata=DXB&place_id_lat=25.195175&place_id_lon=55.27268&search_pageview_id=98a759766d7801d4&search_selected=true&search_pageview_id=98a759766d7801d4&ac_suggestion_list_length=5&ac_suggestion_theme_list_length=0'\n",
    "headers = {'user-agent': 'Mozilla/5.0 (Windows NT 10.0; Win64; x64) AppleWebKit/537.36 (KHTML, like Gecko) Chrome/98.0.4758.82 Safari/537.36'}\n"
   ]
  },
  {
   "cell_type": "markdown",
   "id": "33452a5b",
   "metadata": {},
   "source": [
    "# Create Request to get the url"
   ]
  },
  {
   "cell_type": "code",
   "execution_count": 257,
   "id": "b63fab59",
   "metadata": {},
   "outputs": [],
   "source": [
    "page = requests.get(url, headers=headers)\n",
    "soup = BeautifulSoup(page.content, 'html.parser')\n"
   ]
  },
  {
   "cell_type": "markdown",
   "id": "595405b8",
   "metadata": {},
   "source": [
    "# creating containers for all content\n"
   ]
  },
  {
   "cell_type": "code",
   "execution_count": 258,
   "id": "90b55f75",
   "metadata": {},
   "outputs": [],
   "source": [
    "containers = soup.find_all('div',{'class':'a826ba81c4 fe821aea6c fa2f36ad22 afd256fc79 d08f526e0d ed11e24d01 ef9845d4b3 da89aeb942'})\n"
   ]
  },
  {
   "cell_type": "code",
   "execution_count": 259,
   "id": "f9b4c1ac",
   "metadata": {},
   "outputs": [
    {
     "data": {
      "text/plain": [
       "25"
      ]
     },
     "execution_count": 259,
     "metadata": {},
     "output_type": "execute_result"
    }
   ],
   "source": [
    "len(containers)"
   ]
  },
  {
   "cell_type": "markdown",
   "id": "aae2f764",
   "metadata": {},
   "source": [
    " # Access page elements"
   ]
  },
  {
   "cell_type": "code",
   "execution_count": 260,
   "id": "41796727",
   "metadata": {},
   "outputs": [
    {
     "data": {
      "text/plain": [
       "'The First Collection at Jumeirah Village CircleOpens in new window'"
      ]
     },
     "execution_count": 260,
     "metadata": {},
     "output_type": "execute_result"
    }
   ],
   "source": [
    "hotels_name = containers[0].findAll(\"h3\",{'class':'a4225678b2'})\n",
    "hotels_name[0].text"
   ]
  },
  {
   "cell_type": "code",
   "execution_count": 261,
   "id": "0175881c",
   "metadata": {},
   "outputs": [
    {
     "data": {
      "text/plain": [
       "'EGP\\xa032,084'"
      ]
     },
     "execution_count": 261,
     "metadata": {},
     "output_type": "execute_result"
    }
   ],
   "source": [
    "h_price= containers[0].findAll(\"span\",{'class':'fcab3ed991 fbd1d3018c e729ed5ab6'})\n",
    "h_price[0].text"
   ]
  },
  {
   "cell_type": "code",
   "execution_count": 262,
   "id": "052c6299",
   "metadata": {},
   "outputs": [
    {
     "data": {
      "text/plain": [
       "'8.5'"
      ]
     },
     "execution_count": 262,
     "metadata": {},
     "output_type": "execute_result"
    }
   ],
   "source": [
    "review = containers[0].findAll(\"div\",{'class':'b5cd09854e d10a6220b4'})\n",
    "review[0].text"
   ]
  },
  {
   "cell_type": "markdown",
   "id": "6d62b088",
   "metadata": {},
   "source": [
    "# collect all in one file"
   ]
  },
  {
   "cell_type": "code",
   "execution_count": 263,
   "id": "e61ebaec",
   "metadata": {},
   "outputs": [
    {
     "data": {
      "text/plain": [
       "34"
      ]
     },
     "execution_count": 263,
     "metadata": {},
     "output_type": "execute_result"
    }
   ],
   "source": [
    "f = open('booking_dubai.csv','w')\n",
    "header = 'hotel_name , hotel_price , review\\n'\n",
    "f.write(header)"
   ]
  },
  {
   "cell_type": "code",
   "execution_count": 264,
   "id": "c23c8ae2",
   "metadata": {},
   "outputs": [
    {
     "ename": "IndexError",
     "evalue": "list index out of range",
     "output_type": "error",
     "traceback": [
      "\u001b[1;31m---------------------------------------------------------------------------\u001b[0m",
      "\u001b[1;31mIndexError\u001b[0m                                Traceback (most recent call last)",
      "Input \u001b[1;32mIn [264]\u001b[0m, in \u001b[0;36m<cell line: 1>\u001b[1;34m()\u001b[0m\n\u001b[0;32m      3\u001b[0m h_n \u001b[38;5;241m=\u001b[39m hotels_name[\u001b[38;5;241m0\u001b[39m]\u001b[38;5;241m.\u001b[39mtext\u001b[38;5;241m.\u001b[39mstrip()\n\u001b[0;32m      5\u001b[0m h_price\u001b[38;5;241m=\u001b[39m container\u001b[38;5;241m.\u001b[39mfindAll(\u001b[38;5;124m\"\u001b[39m\u001b[38;5;124mspan\u001b[39m\u001b[38;5;124m\"\u001b[39m,{\u001b[38;5;124m'\u001b[39m\u001b[38;5;124mclass\u001b[39m\u001b[38;5;124m'\u001b[39m:\u001b[38;5;124m'\u001b[39m\u001b[38;5;124mfcab3ed991 fbd1d3018c e729ed5ab6\u001b[39m\u001b[38;5;124m'\u001b[39m})\n\u001b[1;32m----> 6\u001b[0m h_p \u001b[38;5;241m=\u001b[39m \u001b[43mh_price\u001b[49m\u001b[43m[\u001b[49m\u001b[38;5;241;43m0\u001b[39;49m\u001b[43m]\u001b[49m\u001b[38;5;241m.\u001b[39mtext\u001b[38;5;241m.\u001b[39mstrip()\n\u001b[0;32m      8\u001b[0m review \u001b[38;5;241m=\u001b[39m containers[\u001b[38;5;241m6\u001b[39m]\u001b[38;5;241m.\u001b[39mfindAll(\u001b[38;5;124m\"\u001b[39m\u001b[38;5;124mdiv\u001b[39m\u001b[38;5;124m\"\u001b[39m,{\u001b[38;5;124m'\u001b[39m\u001b[38;5;124mclass\u001b[39m\u001b[38;5;124m'\u001b[39m:\u001b[38;5;124m'\u001b[39m\u001b[38;5;124mb5cd09854e d10a6220b4\u001b[39m\u001b[38;5;124m'\u001b[39m})\n\u001b[0;32m      9\u001b[0m h_rev \u001b[38;5;241m=\u001b[39m review[\u001b[38;5;241m0\u001b[39m]\u001b[38;5;241m.\u001b[39mtext\u001b[38;5;241m.\u001b[39mstrip()\n",
      "\u001b[1;31mIndexError\u001b[0m: list index out of range"
     ]
    }
   ],
   "source": [
    "for container in containers :\n",
    "    hotels_name = container.findAll(\"h3\",{'class':'a4225678b2'})\n",
    "    h_n = hotels_name[0].text.strip()\n",
    "    \n",
    "    h_price= container.findAll(\"span\",{'class':'fcab3ed991 fbd1d3018c e729ed5ab6'})\n",
    "    h_p = h_price[0].text.strip()\n",
    "    \n",
    "    review = containers[6].findAll(\"div\",{'class':'b5cd09854e d10a6220b4'})\n",
    "    h_rev = review[0].text.strip()\n",
    "    \n",
    "    f.write(h_n + ',' + h_p + ',' + h_rev + '\\n')   \n",
    "f\n",
    "    "
   ]
  },
  {
   "cell_type": "code",
   "execution_count": null,
   "id": "9ba498b6",
   "metadata": {},
   "outputs": [],
   "source": []
  },
  {
   "cell_type": "code",
   "execution_count": null,
   "id": "39519f50",
   "metadata": {},
   "outputs": [],
   "source": []
  }
 ],
 "metadata": {
  "kernelspec": {
   "display_name": "Python 3 (ipykernel)",
   "language": "python",
   "name": "python3"
  },
  "language_info": {
   "codemirror_mode": {
    "name": "ipython",
    "version": 3
   },
   "file_extension": ".py",
   "mimetype": "text/x-python",
   "name": "python",
   "nbconvert_exporter": "python",
   "pygments_lexer": "ipython3",
   "version": "3.9.12"
  }
 },
 "nbformat": 4,
 "nbformat_minor": 5
}
