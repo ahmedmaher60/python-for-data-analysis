{
 "cells": [
  {
   "cell_type": "code",
   "execution_count": 1,
   "id": "5d0715ae",
   "metadata": {},
   "outputs": [],
   "source": [
    "from bs4 import BeautifulSoup as bs\n",
    "import requests\n",
    "import csv"
   ]
  },
  {
   "cell_type": "code",
   "execution_count": 2,
   "id": "57b7fd6c",
   "metadata": {},
   "outputs": [
    {
     "ename": "NameError",
     "evalue": "name 'BeautifulSoup' is not defined",
     "output_type": "error",
     "traceback": [
      "\u001b[1;31m---------------------------------------------------------------------------\u001b[0m",
      "\u001b[1;31mNameError\u001b[0m                                 Traceback (most recent call last)",
      "Input \u001b[1;32mIn [2]\u001b[0m, in \u001b[0;36m<cell line: 8>\u001b[1;34m()\u001b[0m\n\u001b[0;32m      4\u001b[0m headers \u001b[38;5;241m=\u001b[39m {\u001b[38;5;124m'\u001b[39m\u001b[38;5;124muser-agent\u001b[39m\u001b[38;5;124m'\u001b[39m: \u001b[38;5;124m'\u001b[39m\u001b[38;5;124mMozilla/5.0 (Windows NT 10.0; Win64; x64) AppleWebKit/537.36 (KHTML, like Gecko) Chrome/98.0.4758.82 Safari/537.36\u001b[39m\u001b[38;5;124m'\u001b[39m}\n\u001b[0;32m      6\u001b[0m page \u001b[38;5;241m=\u001b[39m requests\u001b[38;5;241m.\u001b[39mget(url, headers\u001b[38;5;241m=\u001b[39mheaders)\n\u001b[1;32m----> 8\u001b[0m soup \u001b[38;5;241m=\u001b[39m \u001b[43mBeautifulSoup\u001b[49m(page\u001b[38;5;241m.\u001b[39mcontent, \u001b[38;5;124m'\u001b[39m\u001b[38;5;124mhtml.parser\u001b[39m\u001b[38;5;124m'\u001b[39m)\n",
      "\u001b[1;31mNameError\u001b[0m: name 'BeautifulSoup' is not defined"
     ]
    }
   ],
   "source": [
    "\n",
    "# get html\n",
    "url = 'https://www.booking.com/searchresults.en-gb.html?aid=309654&label=booking-com-flights-english-en-emea-2B5Xq73ljteVVKq2awBiPQS228626892855%3Apl%3Ata%3Ap1%3Ap2%3Aac%3Aap%3Aneg%3Afi%3Atikwd-12668691%3Alp1005386%3Ali%3Adec%3Adm%3Appccp%3DUmFuZG9tSVYkc2RlIyh9YcsZ-Id2vkzIfTmYhvC5HOg&lang=en-gb&sid=5e8092358df43afc044b06db6fada831&sb=1&sb_lp=1&src=index&src_elem=sb&error_url=https%3A%2F%2Fwww.booking.com%2Findex.en-gb.html%3Faid%3D309654%26label%3Dbooking-com-flights-english-en-emea-2B5Xq73ljteVVKq2awBiPQS228626892855%253Apl%253Ata%253Ap1%253Ap2%253Aac%253Aap%253Aneg%253Afi%253Atikwd-12668691%253Alp1005386%253Ali%253Adec%253Adm%253Appccp%253DUmFuZG9tSVYkc2RlIyh9YcsZ-Id2vkzIfTmYhvC5HOg%26sid%3D5e8092358df43afc044b06db6fada831%26sb_price_type%3Dtotal%26%26&ss=Dubai%2C+Dubai+Emirate%2C+United+Arab+Emirates&is_ski_area=&checkin_year=2022&checkin_month=12&checkin_monthday=26&checkout_year=2023&checkout_month=1&checkout_monthday=1&efdco=1&group_adults=2&group_children=0&no_rooms=1&b_h4u_keep_filters=&from_sf=1&ss_raw=duabi&ac_position=0&ac_langcode=en&ac_click_type=b&ac_meta=GhA5OGE3NTk3NjZkNzgwMWQ0IAAoATICZW46BWR1YWJpQABKAFAA&dest_id=-782831&dest_type=city&iata=DXB&place_id_lat=25.195175&place_id_lon=55.27268&search_pageview_id=98a759766d7801d4&search_selected=true&search_pageview_id=98a759766d7801d4&ac_suggestion_list_length=5&ac_suggestion_theme_list_length=0'\n",
    "# change the user-agent value based on your web browser\n",
    "headers = {'user-agent': 'Mozilla/5.0 (Windows NT 10.0; Win64; x64) AppleWebKit/537.36 (KHTML, like Gecko) Chrome/98.0.4758.82 Safari/537.36'}\n",
    "\n",
    "page = requests.get(url, headers=headers)\n",
    "\n",
    "soup = BeautifulSoup(page.content, 'html.parser')\n",
    "\n",
    "\n"
   ]
  },
  {
   "cell_type": "code",
   "execution_count": null,
   "id": "13d0ef34",
   "metadata": {},
   "outputs": [],
   "source": [
    "# get all hotels\n",
    "containers = soup.find_all('div',{'class':'a826ba81c4 fe821aea6c fa2f36ad22 afd256fc79 d08f526e0d ed11e24d01 ef9845d4b3 da89aeb942'})\n"
   ]
  },
  {
   "cell_type": "code",
   "execution_count": null,
   "id": "802df9f4",
   "metadata": {},
   "outputs": [],
   "source": [
    "len(containers)"
   ]
  },
  {
   "cell_type": "markdown",
   "id": "9cb5d71f",
   "metadata": {},
   "source": [
    " # Access page elements"
   ]
  },
  {
   "cell_type": "code",
   "execution_count": null,
   "id": "1285dbb2",
   "metadata": {},
   "outputs": [],
   "source": [
    "# we have two solution to find element that we need \n",
    "# first one #containers[1].div.h3.text'\n",
    "# second one jtitle = containers[1].findAll(\"h3\",{'class':'a4225678b2'}) "
   ]
  },
  {
   "cell_type": "code",
   "execution_count": null,
   "id": "d8070a02",
   "metadata": {},
   "outputs": [],
   "source": [
    "#containers[1].div.h3.text"
   ]
  },
  {
   "cell_type": "code",
   "execution_count": null,
   "id": "33b2a942",
   "metadata": {},
   "outputs": [],
   "source": [
    "#jtitle = containers[1].div.h3.text\n",
    "#jtitle"
   ]
  },
  {
   "cell_type": "code",
   "execution_count": null,
   "id": "e69f1650",
   "metadata": {},
   "outputs": [],
   "source": [
    "hotels_name = containers[1].findAll(\"h3\",{'class':'a4225678b2'})\n",
    "hotels_name[0].text"
   ]
  },
  {
   "cell_type": "code",
   "execution_count": null,
   "id": "e54de82e",
   "metadata": {},
   "outputs": [],
   "source": [
    "h_price= containers[1].findAll(\"span\",{'class':'fcab3ed991 fbd1d3018c e729ed5ab6'})\n",
    "h_price[0].text"
   ]
  },
  {
   "cell_type": "code",
   "execution_count": null,
   "id": "fb456b95",
   "metadata": {},
   "outputs": [],
   "source": [
    "review = containers[1].findAll(\"div\",{'class':'b5cd09854e d10a6220b4'})\n",
    "review[0].text"
   ]
  },
  {
   "cell_type": "markdown",
   "id": "d819e75c",
   "metadata": {},
   "source": [
    "# collect all in one file"
   ]
  },
  {
   "cell_type": "code",
   "execution_count": null,
   "id": "764155e0",
   "metadata": {},
   "outputs": [],
   "source": [
    "header = 'hotels_name,price, review \\n'\n",
    "with open('amazon_books.csv', 'w', encoding='utf-8', newline='') as f:\n",
    "    writer = csv.writer(f)\n",
    "    writer.writerow(csv_headers)"
   ]
  }
 ],
 "metadata": {
  "kernelspec": {
   "display_name": "Python 3 (ipykernel)",
   "language": "python",
   "name": "python3"
  },
  "language_info": {
   "codemirror_mode": {
    "name": "ipython",
    "version": 3
   },
   "file_extension": ".py",
   "mimetype": "text/x-python",
   "name": "python",
   "nbconvert_exporter": "python",
   "pygments_lexer": "ipython3",
   "version": "3.9.12"
  }
 },
 "nbformat": 4,
 "nbformat_minor": 5
}
